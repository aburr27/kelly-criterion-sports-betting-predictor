json.dumps({
        "cells": [
            {
                "cell_type": "markdown",
                "metadata": {},
                "source": ["# Kelly Criterion Predictions Notebook\n\nThis notebook is a starter to load the example CSV, run predictions and visualize results.\n"]
            },
            {
                "cell_type": "code",
                "metadata": {},
                "source": [
                    "import pandas as pd\n",
                    "df = pd.read_csv('data/example_bet_data.csv')\n",
                    "df.head()"
                ]
            }
        ],
        "metadata": {
            "kernelspec": {"display_name": "Python 3", "language": "python", "name": "python3"},
            "language_info": {"name": "python"}
        },
        "nbformat": 4,
        "nbformat_minor": 5
    })
}
